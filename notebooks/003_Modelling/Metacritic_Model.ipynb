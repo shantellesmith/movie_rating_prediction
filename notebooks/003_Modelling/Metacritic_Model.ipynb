{
 "cells": [
  {
   "cell_type": "markdown",
   "id": "63c5db26-dd06-495f-8379-aba9943604d8",
   "metadata": {},
   "source": [
    "# Metacritic Score Datasets (Feb 2023)"
   ]
  },
  {
   "cell_type": "markdown",
   "id": "1d1c2b5f-4183-4f08-a4d3-9f514a7fd2b6",
   "metadata": {},
   "source": [
    "## Load Packages and Functions"
   ]
  },
  {
   "cell_type": "code",
   "execution_count": 1,
   "id": "bc333e69-6383-438b-866b-f808a5d1aa9f",
   "metadata": {},
   "outputs": [],
   "source": [
    "import numpy as np\n",
    "import pandas as pd\n",
    "import seaborn as sns\n",
    "from sklearn.linear_model import LinearRegression\n",
    "from sklearn.model_selection import train_test_split\n",
    "from sklearn.tree import DecisionTreeRegressor\n",
    "from sklearn.model_selection import GridSearchCV\n",
    "from sklearn import metrics\n",
    "from xgboost import XGBRegressor\n",
    "from sklearn.ensemble import RandomForestRegressor\n",
    "import joblib\n",
    "import pickle\n"
   ]
  },
  {
   "attachments": {},
   "cell_type": "markdown",
   "id": "d9d2a217-6321-4b7b-9541-a3da86cd9761",
   "metadata": {},
   "source": [
    "## Load Data "
   ]
  },
  {
   "cell_type": "code",
   "execution_count": 2,
   "id": "49952777-e783-4ba8-99d7-029c65560c56",
   "metadata": {},
   "outputs": [],
   "source": [
    "df_movies = pd.read_csv('../../data/processed/df_movies_processed.csv')"
   ]
  },
  {
   "cell_type": "code",
   "execution_count": 3,
   "id": "4ad8e5c4",
   "metadata": {},
   "outputs": [
    {
     "data": {
      "text/plain": [
       "Index(['Unnamed: 0', 'metascore', 'rating', 'release_date', 'sort_no',\n",
       "       'summary', 'title', 'user_score', 'release_year', 'release_month',\n",
       "       'release_quarter', 'release_yearday', 'title_len', 'summary_len',\n",
       "       'title_wordlen', 'summary_wordlen', 'title_avg_wordlength',\n",
       "       'summary_avg_wordlength', 'title_capcount', 'summary_capcount',\n",
       "       'title_punccount', 'summary_punccount', 'title_sentcount',\n",
       "       'summary_sentcount', 'title_uniq', 'summary_uniq',\n",
       "       'title_uniq_vs_words', 'summary_uniq_vs_words', 'title_stopcount',\n",
       "       'summary_stopcount', 'title_stopwords_vs_words',\n",
       "       'summary_stopwords_vs_words', 'title_clean', 'summary_clean',\n",
       "       'title_clean_num', 'summary_clean_num', 'title_topic', 'summary_topic'],\n",
       "      dtype='object')"
      ]
     },
     "execution_count": 3,
     "metadata": {},
     "output_type": "execute_result"
    }
   ],
   "source": [
    "df_movies.columns"
   ]
  },
  {
   "cell_type": "code",
   "execution_count": 4,
   "id": "b87a59d0",
   "metadata": {
    "scrolled": true
   },
   "outputs": [],
   "source": [
    "df_movies.drop(['Unnamed: 0','release_date','summary', 'title','title_clean','sort_no',\n",
    "                'summary_clean', 'title_clean_num', 'summary_clean_num',\n",
    "                'title_punccount','summary_punccount',\n",
    "               'title_wordlen', 'summary_wordlen','title_uniq', 'summary_uniq'],axis=1,inplace=True)"
   ]
  },
  {
   "cell_type": "code",
   "execution_count": 5,
   "id": "950fd54d",
   "metadata": {},
   "outputs": [
    {
     "data": {
      "text/plain": [
       "rating   \n",
       "R            4938\n",
       "Not Rated    4025\n",
       "PG-13        2586\n",
       "PG           1472\n",
       "-1           1124\n",
       "TV-MA         260\n",
       "G             230\n",
       "TV-14         149\n",
       "TV-PG         140\n",
       "Approved      134\n",
       "Passed         94\n",
       "NC-17          83\n",
       "TV-G           40\n",
       "GP             23\n",
       "M               9\n",
       "M/PG            8\n",
       "Open            6\n",
       "TV-Y7           2\n",
       "MA-17           1\n",
       "TV-Y7-FV        1\n",
       "Name: count, dtype: int64"
      ]
     },
     "execution_count": 5,
     "metadata": {},
     "output_type": "execute_result"
    }
   ],
   "source": [
    "df_movies.select_dtypes('object').value_counts()"
   ]
  },
  {
   "cell_type": "code",
   "execution_count": 24,
   "id": "6c3b033d",
   "metadata": {},
   "outputs": [
    {
     "data": {
      "text/plain": [
       "<AxesSubplot: >"
      ]
     },
     "execution_count": 24,
     "metadata": {},
     "output_type": "execute_result"
    },
    {
     "data": {
      "image/png": "[encoded data removed]",
      "text/plain": [
       "<Figure size 640x480 with 1 Axes>"
      ]
     },
     "metadata": {},
     "output_type": "display_data"
    }
   ],
   "source": [
    "df_movies['metascore'].hist(density=True)"
   ]
  },
  {
   "cell_type": "code",
   "execution_count": 25,
   "id": "5033d7d3",
   "metadata": {},
   "outputs": [
    {
     "data": {
      "text/plain": [
       "<AxesSubplot: >"
      ]
     },
     "execution_count": 25,
     "metadata": {},
     "output_type": "execute_result"
    },
    {
     "data": {
      "image/png": "[encoded data removed]",
      "text/plain": [
       "<Figure size 640x480 with 1 Axes>"
      ]
     },
     "metadata": {},
     "output_type": "display_data"
    }
   ],
   "source": [
    "np.log1p(df_movies['metascore']).hist(density=True)"
   ]
  },
  {
   "attachments": {},
   "cell_type": "markdown",
   "id": "e835a7ad",
   "metadata": {},
   "source": [
    "## Encoding"
   ]
  },
  {
   "cell_type": "code",
   "execution_count": 6,
   "id": "9c51c026",
   "metadata": {},
   "outputs": [],
   "source": [
    "from sklearn.preprocessing import LabelEncoder\n",
    "def label_encode_columns(dataframe, columns):\n",
    "    \"\"\"Label encodes the specified columns of a dataframe\"\"\"\n",
    "    encoded_data = {}\n",
    "    for column in columns:\n",
    "        le = LabelEncoder()\n",
    "        dataframe[column] = le.fit_transform(dataframe[column].astype('str'))\n",
    "        le_classes = le.classes_\n",
    "        encoded_data[column] = {\"label_encoder\": le, \"classes\": le_classes}\n",
    "    return {\"dataframe\": dataframe, \"encoded_data\": encoded_data}"
   ]
  },
  {
   "cell_type": "code",
   "execution_count": 7,
   "id": "b920416a",
   "metadata": {},
   "outputs": [],
   "source": [
    "movies_encoding = label_encode_columns(df_movies, df_movies.select_dtypes('object').columns.values)"
   ]
  },
  {
   "cell_type": "code",
   "execution_count": 8,
   "id": "55901e51",
   "metadata": {},
   "outputs": [],
   "source": [
    "df_movies_encoded = movies_encoding['dataframe']"
   ]
  },
  {
   "cell_type": "code",
   "execution_count": 9,
   "id": "a2078c14",
   "metadata": {},
   "outputs": [
    {
     "data": {
      "text/plain": [
       "array(['-1', 'Approved', 'G', 'GP', 'M', 'M/PG', 'MA-17', 'NC-17',\n",
       "       'Not Rated', 'Open', 'PG', 'PG-13', 'Passed', 'R', 'TV-14', 'TV-G',\n",
       "       'TV-MA', 'TV-PG', 'TV-Y7', 'TV-Y7-FV'], dtype=object)"
      ]
     },
     "execution_count": 9,
     "metadata": {},
     "output_type": "execute_result"
    }
   ],
   "source": [
    "movies_encoding['encoded_data']['rating']['label_encoder'].transform(movies_encoding['encoded_data']['rating']['classes'])\n",
    "movies_encoding['encoded_data']['rating']['classes']"
   ]
  },
  {
   "attachments": {},
   "cell_type": "markdown",
   "id": "90d9f18b",
   "metadata": {},
   "source": [
    "## Feature Selection"
   ]
  },
  {
   "cell_type": "code",
   "execution_count": null,
   "id": "f35f6b41",
   "metadata": {},
   "outputs": [],
   "source": []
  },
  {
   "attachments": {},
   "cell_type": "markdown",
   "id": "1e16ce3b",
   "metadata": {},
   "source": [
    "## Train-Test Split"
   ]
  },
  {
   "cell_type": "code",
   "execution_count": 10,
   "id": "4dd05f9f",
   "metadata": {},
   "outputs": [],
   "source": [
    "X_train, X_test, y_train, y_test = train_test_split(df_movies.drop('metascore',axis=1), \n",
    "                                                    df_movies['metascore'], \n",
    "                                                    test_size=0.30, random_state=42)"
   ]
  },
  {
   "cell_type": "code",
   "execution_count": 11,
   "id": "b1564175",
   "metadata": {},
   "outputs": [
    {
     "data": {
      "text/plain": [
       "metascore\n",
       "64    261\n",
       "65    256\n",
       "68    252\n",
       "67    251\n",
       "66    250\n",
       "     ... \n",
       "8       4\n",
       "99      3\n",
       "7       3\n",
       "5       2\n",
       "6       1\n",
       "Name: count, Length: 97, dtype: int64"
      ]
     },
     "execution_count": 11,
     "metadata": {},
     "output_type": "execute_result"
    }
   ],
   "source": [
    "y_train.value_counts()"
   ]
  },
  {
   "cell_type": "code",
   "execution_count": 12,
   "id": "bda77878",
   "metadata": {},
   "outputs": [
    {
     "data": {
      "text/plain": [
       "Index(['rating', 'user_score', 'release_year', 'release_month',\n",
       "       'release_quarter', 'release_yearday', 'title_len', 'summary_len',\n",
       "       'title_avg_wordlength', 'summary_avg_wordlength', 'title_capcount',\n",
       "       'summary_capcount', 'title_sentcount', 'summary_sentcount',\n",
       "       'title_uniq_vs_words', 'summary_uniq_vs_words', 'title_stopcount',\n",
       "       'summary_stopcount', 'title_stopwords_vs_words',\n",
       "       'summary_stopwords_vs_words', 'title_topic', 'summary_topic'],\n",
       "      dtype='object')"
      ]
     },
     "execution_count": 12,
     "metadata": {},
     "output_type": "execute_result"
    }
   ],
   "source": [
    "X_train.columns"
   ]
  },
  {
   "cell_type": "code",
   "execution_count": 13,
   "id": "c6dcef84",
   "metadata": {},
   "outputs": [
    {
     "data": {
      "text/html": [
       "<div>\n",
       "<style scoped>\n",
       "    .dataframe tbody tr th:only-of-type {\n",
       "        vertical-align: middle;\n",
       "    }\n",
       "\n",
       "    .dataframe tbody tr th {\n",
       "        vertical-align: top;\n",
       "    }\n",
       "\n",
       "    .dataframe thead th {\n",
       "        text-align: right;\n",
       "    }\n",
       "</style>\n",
       "<table border=\"1\" class=\"dataframe\">\n",
       "  <thead>\n",
       "    <tr style=\"text-align: right;\">\n",
       "      <th></th>\n",
       "      <th>rating</th>\n",
       "      <th>user_score</th>\n",
       "      <th>release_year</th>\n",
       "      <th>release_month</th>\n",
       "      <th>release_quarter</th>\n",
       "      <th>release_yearday</th>\n",
       "      <th>title_len</th>\n",
       "      <th>summary_len</th>\n",
       "      <th>title_avg_wordlength</th>\n",
       "      <th>summary_avg_wordlength</th>\n",
       "      <th>...</th>\n",
       "      <th>title_sentcount</th>\n",
       "      <th>summary_sentcount</th>\n",
       "      <th>title_uniq_vs_words</th>\n",
       "      <th>summary_uniq_vs_words</th>\n",
       "      <th>title_stopcount</th>\n",
       "      <th>summary_stopcount</th>\n",
       "      <th>title_stopwords_vs_words</th>\n",
       "      <th>summary_stopwords_vs_words</th>\n",
       "      <th>title_topic</th>\n",
       "      <th>summary_topic</th>\n",
       "    </tr>\n",
       "  </thead>\n",
       "  <tbody>\n",
       "    <tr>\n",
       "      <th>1758</th>\n",
       "      <td>8</td>\n",
       "      <td>-1.0</td>\n",
       "      <td>2023.0</td>\n",
       "      <td>2.0</td>\n",
       "      <td>1.0</td>\n",
       "      <td>48.0</td>\n",
       "      <td>11</td>\n",
       "      <td>497</td>\n",
       "      <td>11.0</td>\n",
       "      <td>6.291139</td>\n",
       "      <td>...</td>\n",
       "      <td>1</td>\n",
       "      <td>3</td>\n",
       "      <td>1.0</td>\n",
       "      <td>0.797468</td>\n",
       "      <td>0</td>\n",
       "      <td>28</td>\n",
       "      <td>0.0</td>\n",
       "      <td>0.354430</td>\n",
       "      <td>21</td>\n",
       "      <td>-1</td>\n",
       "    </tr>\n",
       "    <tr>\n",
       "      <th>12152</th>\n",
       "      <td>7</td>\n",
       "      <td>6.5</td>\n",
       "      <td>2007.0</td>\n",
       "      <td>8.0</td>\n",
       "      <td>3.0</td>\n",
       "      <td>222.0</td>\n",
       "      <td>7</td>\n",
       "      <td>222</td>\n",
       "      <td>7.0</td>\n",
       "      <td>6.166667</td>\n",
       "      <td>...</td>\n",
       "      <td>1</td>\n",
       "      <td>3</td>\n",
       "      <td>1.0</td>\n",
       "      <td>0.888889</td>\n",
       "      <td>0</td>\n",
       "      <td>15</td>\n",
       "      <td>0.0</td>\n",
       "      <td>0.416667</td>\n",
       "      <td>-1</td>\n",
       "      <td>-1</td>\n",
       "    </tr>\n",
       "    <tr>\n",
       "      <th>10598</th>\n",
       "      <td>8</td>\n",
       "      <td>6.6</td>\n",
       "      <td>2014.0</td>\n",
       "      <td>10.0</td>\n",
       "      <td>4.0</td>\n",
       "      <td>276.0</td>\n",
       "      <td>13</td>\n",
       "      <td>172</td>\n",
       "      <td>6.5</td>\n",
       "      <td>7.166667</td>\n",
       "      <td>...</td>\n",
       "      <td>1</td>\n",
       "      <td>1</td>\n",
       "      <td>1.0</td>\n",
       "      <td>0.958333</td>\n",
       "      <td>0</td>\n",
       "      <td>7</td>\n",
       "      <td>0.0</td>\n",
       "      <td>0.291667</td>\n",
       "      <td>0</td>\n",
       "      <td>-1</td>\n",
       "    </tr>\n",
       "    <tr>\n",
       "      <th>852</th>\n",
       "      <td>13</td>\n",
       "      <td>7.6</td>\n",
       "      <td>2022.0</td>\n",
       "      <td>10.0</td>\n",
       "      <td>4.0</td>\n",
       "      <td>280.0</td>\n",
       "      <td>9</td>\n",
       "      <td>172</td>\n",
       "      <td>4.5</td>\n",
       "      <td>5.058824</td>\n",
       "      <td>...</td>\n",
       "      <td>1</td>\n",
       "      <td>2</td>\n",
       "      <td>1.0</td>\n",
       "      <td>0.882353</td>\n",
       "      <td>0</td>\n",
       "      <td>14</td>\n",
       "      <td>0.0</td>\n",
       "      <td>0.411765</td>\n",
       "      <td>1</td>\n",
       "      <td>-1</td>\n",
       "    </tr>\n",
       "    <tr>\n",
       "      <th>1494</th>\n",
       "      <td>0</td>\n",
       "      <td>8.0</td>\n",
       "      <td>2005.0</td>\n",
       "      <td>7.0</td>\n",
       "      <td>3.0</td>\n",
       "      <td>182.0</td>\n",
       "      <td>9</td>\n",
       "      <td>242</td>\n",
       "      <td>4.5</td>\n",
       "      <td>6.722222</td>\n",
       "      <td>...</td>\n",
       "      <td>1</td>\n",
       "      <td>2</td>\n",
       "      <td>1.0</td>\n",
       "      <td>0.944444</td>\n",
       "      <td>0</td>\n",
       "      <td>13</td>\n",
       "      <td>0.0</td>\n",
       "      <td>0.361111</td>\n",
       "      <td>-1</td>\n",
       "      <td>1</td>\n",
       "    </tr>\n",
       "  </tbody>\n",
       "</table>\n",
       "<p>5 rows × 22 columns</p>\n",
       "</div>"
      ],
      "text/plain": [
       "       rating  user_score  release_year  release_month  release_quarter   \n",
       "1758        8        -1.0        2023.0            2.0              1.0  \\\n",
       "12152       7         6.5        2007.0            8.0              3.0   \n",
       "10598       8         6.6        2014.0           10.0              4.0   \n",
       "852        13         7.6        2022.0           10.0              4.0   \n",
       "1494        0         8.0        2005.0            7.0              3.0   \n",
       "\n",
       "       release_yearday  title_len  summary_len  title_avg_wordlength   \n",
       "1758              48.0         11          497                  11.0  \\\n",
       "12152            222.0          7          222                   7.0   \n",
       "10598            276.0         13          172                   6.5   \n",
       "852              280.0          9          172                   4.5   \n",
       "1494             182.0          9          242                   4.5   \n",
       "\n",
       "       summary_avg_wordlength  ...  title_sentcount  summary_sentcount   \n",
       "1758                 6.291139  ...                1                  3  \\\n",
       "12152                6.166667  ...                1                  3   \n",
       "10598                7.166667  ...                1                  1   \n",
       "852                  5.058824  ...                1                  2   \n",
       "1494                 6.722222  ...                1                  2   \n",
       "\n",
       "       title_uniq_vs_words  summary_uniq_vs_words  title_stopcount   \n",
       "1758                   1.0               0.797468                0  \\\n",
       "12152                  1.0               0.888889                0   \n",
       "10598                  1.0               0.958333                0   \n",
       "852                    1.0               0.882353                0   \n",
       "1494                   1.0               0.944444                0   \n",
       "\n",
       "       summary_stopcount  title_stopwords_vs_words   \n",
       "1758                  28                       0.0  \\\n",
       "12152                 15                       0.0   \n",
       "10598                  7                       0.0   \n",
       "852                   14                       0.0   \n",
       "1494                  13                       0.0   \n",
       "\n",
       "       summary_stopwords_vs_words  title_topic  summary_topic  \n",
       "1758                     0.354430           21             -1  \n",
       "12152                    0.416667           -1             -1  \n",
       "10598                    0.291667            0             -1  \n",
       "852                      0.411765            1             -1  \n",
       "1494                     0.361111           -1              1  \n",
       "\n",
       "[5 rows x 22 columns]"
      ]
     },
     "execution_count": 13,
     "metadata": {},
     "output_type": "execute_result"
    }
   ],
   "source": [
    "X_train.head()"
   ]
  },
  {
   "cell_type": "code",
   "execution_count": 14,
   "id": "05afbe99",
   "metadata": {},
   "outputs": [
    {
     "data": {
      "text/plain": [
       "1.0"
      ]
     },
     "execution_count": 14,
     "metadata": {},
     "output_type": "execute_result"
    }
   ],
   "source": [
    "X_train['title_uniq_vs_words'].max()"
   ]
  },
  {
   "cell_type": "markdown",
   "id": "1af67b5f",
   "metadata": {},
   "source": [
    "## Model"
   ]
  },
  {
   "cell_type": "code",
   "execution_count": 15,
   "id": "f6647df9",
   "metadata": {},
   "outputs": [],
   "source": [
    "#linear_reg = LinearRegression()\n",
    "#decision_tree_reg = DecisionTreeRegressor(random_state = 42)\n",
    "random_forest_reg = RandomForestRegressor(random_state = 42)\n",
    "#xgboost_reg = XGBRegressor(seed = 42)\n",
    "\n",
    "# Step 4: Hyperparameter Tuning\n",
    "linear_reg_params = {}\n",
    "decision_tree_reg_params = {'max_depth': [3, 5, 7]}\n",
    "random_forest_reg_params = {'n_estimators': [100, 200, 300], 'max_depth': [3, 5, 7]}\n",
    "xgboost_reg_params = {'learning_rate': [0.1, 0.3, 0.5], 'max_depth': [3, 5, 7]}\n",
    "\n",
    "#linear_reg_grid = GridSearchCV(linear_reg, linear_reg_params, cv=5)\n",
    "#decision_tree_reg_grid = GridSearchCV(decision_tree_reg, decision_tree_reg_params, cv=5)\n",
    "random_forest_reg_grid = GridSearchCV(random_forest_reg, random_forest_reg_params, cv=5)\n",
    "#xgboost_reg_grid = GridSearchCV(xgboost_reg, xgboost_reg_params, cv=5)\n",
    "\n",
    "#linear_reg_grid.fit(X_train, y_train)\n",
    "#decision_tree_reg_grid.fit(X_train, y_train)\n",
    "random_forest_reg_grid.fit(X_train, y_train)\n",
    "#xgboost_reg_grid.fit(X_train, y_train)\n",
    "\n",
    "# Step 5: Model Training\n",
    "#linear_reg_model = linear_reg_grid.best_estimator_\n",
    "#decision_tree_reg_model = decision_tree_reg_grid.best_estimator_\n",
    "random_forest_reg_model = random_forest_reg_grid.best_estimator_\n",
    "#xgboost_reg_model = xgboost_reg_grid.best_estimator_"
   ]
  },
  {
   "cell_type": "code",
   "execution_count": 16,
   "id": "b1dd6b90",
   "metadata": {},
   "outputs": [
    {
     "name": "stdout",
     "output_type": "stream",
     "text": [
      "Fitter RF\n"
     ]
    }
   ],
   "source": [
    "#linear_reg_model.fit(X_train, y_train)\n",
    "#print('Fitter LG')\n",
    "#decision_tree_reg_model.fit(X_train, y_train)\n",
    "#print('Fitter DT')\n",
    "random_forest_reg_model.fit(X_train, y_train)\n",
    "print('Fitter RF')\n",
    "#xgboost_reg_model.fit(X_train, y_train)\n",
    "#print('Fitter XGB')"
   ]
  },
  {
   "cell_type": "code",
   "execution_count": 17,
   "id": "f2cc1b3e",
   "metadata": {},
   "outputs": [],
   "source": [
    "#y_pred_linear = linear_reg_model.predict(X_test)\n",
    "#y_pred_dt = decision_tree_reg_model.predict(X_test)\n",
    "y_pred_rf = random_forest_reg_model.predict(X_test)\n",
    "#y_pred_xgb = xgboost_reg_model.predict(X_test)"
   ]
  },
  {
   "cell_type": "code",
   "execution_count": 29,
   "id": "614e8e6d",
   "metadata": {},
   "outputs": [
    {
     "name": "stdout",
     "output_type": "stream",
     "text": [
      "RF: r-score =  0.33727 , MSE =  192.40242 , MAPE =  0.25317 , RMSE =  13.87092 , ADJ-R2 =  0.33408\n"
     ]
    }
   ],
   "source": [
    "Adj_r2 = 1 - (1-metrics.r2_score(y_test, y_pred_rf)) * (len(y_test)-1)/(len(y_test)-X_test.shape[1]-1)\n",
    "# Step 5: Evaluate the model performance\n",
    "print(\"RF: r-score = \",metrics.r2_score(y_test, y_pred_rf).round(5), \", MSE = \", \n",
    "      metrics.mean_squared_error(y_test, y_pred_rf).round(5),\", MAPE = \",\n",
    "      metrics.mean_absolute_percentage_error(y_test, y_pred_rf).round(5),\n",
    "      \", RMSE = \",metrics.mean_squared_error(y_test, y_pred_rf, squared=False).round(5),\n",
    "      \", ADJ-R2 = \", Adj_r2.round(5))\n",
    "\n",
    "#LinearReg: r-score =  0.06906265014799318 , MSE =  270.2670437282094 , MAPE =  0.3174741959022944\n",
    "#Decision Tree: r-score =  0.2943551034715307 , MSE =  204.8607891142896 , MAPE =  0.2632827766998192\n",
    "#Random Forest: r-score =  0.33745079689923907 , MSE =  192.3493718186192 , MAPE =  0.2533494851491093\n",
    "#XGBoost: r-score =  0.35155470318214177 , MSE =  188.25476646552448 , MAPE =  0.253455214202358"
   ]
  },
  {
   "cell_type": "code",
   "execution_count": 19,
   "id": "9622add2",
   "metadata": {},
   "outputs": [
    {
     "data": {
      "text/plain": [
       "<AxesSubplot: xlabel='metascore'>"
      ]
     },
     "execution_count": 19,
     "metadata": {},
     "output_type": "execute_result"
    },
    {
     "data": {
      "image/png": "[encoded data removed]",
      "text/plain": [
       "<Figure size 640x480 with 1 Axes>"
      ]
     },
     "metadata": {},
     "output_type": "display_data"
    }
   ],
   "source": [
    "sns.regplot(x=y_test, y=y_pred_rf, scatter_kws={\"color\": \"green\"}, line_kws={\"color\": \"blue\"}) "
   ]
  },
  {
   "cell_type": "code",
   "execution_count": 20,
   "id": "83919ca9",
   "metadata": {},
   "outputs": [],
   "source": [
    "#xgboost_reg_model.best_ntree_limit"
   ]
  },
  {
   "cell_type": "code",
   "execution_count": 21,
   "id": "b5fd1f16",
   "metadata": {},
   "outputs": [],
   "source": [
    "y_pred_rf = random_forest_reg_model.predict(X_test)"
   ]
  },
  {
   "cell_type": "code",
   "execution_count": 23,
   "id": "0b3ab0c6",
   "metadata": {},
   "outputs": [
    {
     "data": {
      "text/plain": [
       "['random_forest_reg_model_metascore.joblib']"
      ]
     },
     "execution_count": 23,
     "metadata": {},
     "output_type": "execute_result"
    }
   ],
   "source": [
    "# save in JSON format\n",
    "#xgboost_reg_model.save_model(\"../../models/xgboost_reg_model_metascore.pkl\")\n",
    "#joblib.dump(random_forest_reg_model, \"random_forest_reg_model_metascore.joblib\")"
   ]
  },
  {
   "cell_type": "code",
   "execution_count": 22,
   "id": "8eb26297",
   "metadata": {},
   "outputs": [],
   "source": [
    "with open('../../models/random_forest_reg_model_metascore.pkl', 'wb') as f:\n",
    "    pickle.dump(random_forest_reg_model, f)"
   ]
  },
  {
   "cell_type": "code",
   "execution_count": null,
   "id": "1a99c5f8",
   "metadata": {},
   "outputs": [],
   "source": []
  }
 ],
 "metadata": {
  "kernelspec": {
   "display_name": "base",
   "language": "python",
   "name": "python3"
  },
  "language_info": {
   "codemirror_mode": {
    "name": "ipython",
    "version": 3
   },
   "file_extension": ".py",
   "mimetype": "text/x-python",
   "name": "python",
   "nbconvert_exporter": "python",
   "pygments_lexer": "ipython3",
   "version": "3.10.10"
  },
  "toc": {
   "base_numbering": 1,
   "nav_menu": {},
   "number_sections": true,
   "sideBar": true,
   "skip_h1_title": false,
   "title_cell": "Table of Contents",
   "title_sidebar": "Contents",
   "toc_cell": false,
   "toc_position": {
    "height": "calc(100% - 180px)",
    "left": "10px",
    "top": "150px",
    "width": "374.594px"
   },
   "toc_section_display": true,
   "toc_window_display": true
  },
  "varInspector": {
   "cols": {
    "lenName": 16,
    "lenType": 16,
    "lenVar": 40
   },
   "kernels_config": {
    "python": {
     "delete_cmd_postfix": "",
     "delete_cmd_prefix": "del ",
     "library": "var_list.py",
     "varRefreshCmd": "print(var_dic_list())"
    },
    "r": {
     "delete_cmd_postfix": ") ",
     "delete_cmd_prefix": "rm(",
     "library": "var_list.r",
     "varRefreshCmd": "cat(var_dic_list()) "
    }
   },
   "types_to_exclude": [
    "module",
    "function",
    "builtin_function_or_method",
    "instance",
    "_Feature"
   ],
   "window_display": false
  },
  "vscode": {
   "interpreter": {
    "hash": "953387a73ab6ee5bf3c661d9e9510ed9e293469f83281caf679db1efac9ac2d4"
   }
  }
 },
 "nbformat": 4,
 "nbformat_minor": 5
}
